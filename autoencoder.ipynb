{
 "cells": [
  {
   "cell_type": "code",
   "execution_count": 1,
   "metadata": {},
   "outputs": [
    {
     "data": {
      "text/plain": [
       "'\\n    This algorithm process to the auto-encoding of the images\\n'"
      ]
     },
     "execution_count": 1,
     "metadata": {},
     "output_type": "execute_result"
    }
   ],
   "source": [
    "\"\"\"\n",
    "    This algorithm process to the auto-encoding of the images\n",
    "\"\"\""
   ]
  },
  {
   "cell_type": "code",
   "execution_count": 6,
   "metadata": {},
   "outputs": [],
   "source": [
    "from torch.utils.data import DataLoader\n",
    "from utils.dataset import imageDataset\n",
    "import pandas as pd"
   ]
  },
  {
   "cell_type": "code",
   "execution_count": 3,
   "metadata": {},
   "outputs": [
    {
     "data": {
      "text/plain": [
       "utils.dataset.imageDataset"
      ]
     },
     "execution_count": 3,
     "metadata": {},
     "output_type": "execute_result"
    }
   ],
   "source": [
    "imageDataset"
   ]
  },
  {
   "cell_type": "code",
   "execution_count": 4,
   "metadata": {},
   "outputs": [],
   "source": [
    "def get_data(data_folder=\"./data\"):\n",
    "    \"\"\"\n",
    "        Parameters\n",
    "        ----------\n",
    "        data_folder: str, folder containing the date\n",
    "\n",
    "        Return\n",
    "        ------\n",
    "        - tuple containing :\n",
    "            > an image dataset object\n",
    "            > a pandas dataframe of metadata\n",
    "        - dataframe of labels\n",
    "    \"\"\"\n",
    "\n",
    "    # Creating an UID\n",
    "    df_expert = pd.read_csv(f\"{data_folder}/mimic-cxr-2.0.0-chexpert.csv.gz\")\n",
    "    df_metadata = pd.read_csv(f\"{data_folder}/mimic-cxr-2.0.0-metadata.csv.gz\")\n",
    "\n",
    "    df_metadata = df_metadata.reset_index() \\\n",
    "        .rename(columns = {\"index\":\"uid\"}) \\\n",
    "        .drop(columns = [\"Unnamed: 0\"])\n",
    "\n",
    "    df_expert = df_expert \\\n",
    "        .drop(columns = [\"Unnamed: 0\"]) \\\n",
    "        .join(df_metadata[[\"study_id\",\"uid\"]].set_index(\"study_id\"), on = \"study_id\") \\\n",
    "        .set_index(\"uid\") \\\n",
    "        .sort_index() \\\n",
    "        .reset_index(drop=False)\n",
    "        \n",
    "    df_expert[\"text_label\"] = df_expert.iloc[:,3:].apply(\n",
    "        lambda x: \",\".join(x.dropna()[x.dropna() == 1].index.tolist())\n",
    "    , axis=1)\n",
    "\n",
    "    # Getting image loader\n",
    "\n",
    "    ## Getting image path dict\n",
    "    images_paths = df_metadata[[\"uid\", \"subject_id\", \"dicom_id\", \"study_id\"]] \\\n",
    "                    .reset_index(drop=True)\n",
    "\n",
    "    images_paths[\"subject_id_str\"] = images_paths[\"subject_id\"].astype(\"str\")\n",
    "    images_paths[\"study_id_str\"] = images_paths[\"study_id\"].astype(\"str\")\n",
    "\n",
    "    images_paths[\"path\"] = f\"{data_folder}/./files/p\"+images_paths[\"subject_id_str\"].str.slice(0,2)+\"/p\"+ \\\n",
    "        +images_paths[\"subject_id_str\"]+\"/s\"+ \\\n",
    "        +images_paths[\"study_id_str\"]+\"/\"+ \\\n",
    "        +images_paths[\"dicom_id\"]+\".jpg\"\n",
    "\n",
    "    images_paths = images_paths[[\"uid\",\"path\"]].set_index(\"uid\")[\"path\"] \\\n",
    "            .to_dict()\n",
    "\n",
    "    ## Loading images\n",
    "    images_dataset = imageDataset(images_paths)\n",
    "\n",
    "    return (images_dataset, df_metadata), df_expert"
   ]
  },
  {
   "cell_type": "code",
   "execution_count": 7,
   "metadata": {},
   "outputs": [],
   "source": [
    "X,y = get_data(\"./data\")"
   ]
  },
  {
   "cell_type": "code",
   "execution_count": 8,
   "metadata": {},
   "outputs": [],
   "source": [
    "# Splitting train and test\n",
    "X0_train, X0_test = X[0].split(p=0.7, random_seed=42)\n",
    "\n",
    "train_id = X0_train.image_list\n",
    "test_id = X0_test.image_list\n",
    "\n",
    "X1_train = X[1].set_index(\"uid\").loc[train_id,:].reset_index()\n",
    "X1_test = X[1].set_index(\"uid\").loc[test_id,:].reset_index()\n",
    "\n",
    "y_train = y.set_index(\"uid\").loc[train_id,:].reset_index(drop=True)\n",
    "y_test = y.set_index(\"uid\").loc[test_id,:].reset_index(drop=True)"
   ]
  },
  {
   "cell_type": "code",
   "execution_count": 119,
   "metadata": {},
   "outputs": [],
   "source": [
    "from torchvision.transforms import RandomResizedCrop, Resize\n",
    "import torch\n",
    "import numpy as np"
   ]
  },
  {
   "cell_type": "code",
   "execution_count": 121,
   "metadata": {},
   "outputs": [],
   "source": [
    "def dataset_collater (x):\n",
    "    \n",
    "    size = tuple(np.array([x_[0].shape for x_ in x]).min(axis=0).tolist())\n",
    "    resizer = Resize(512)\n",
    "    randomcrop = RandomResizedCrop(size=(512,512))\n",
    "    \n",
    "    # Applying randomCrop\n",
    "    images_tensor = []\n",
    "\n",
    "    for x_ in x:\n",
    "        image_tensor = torch.tensor(x_[0], dtype=torch.float32).unsqueeze(dim=0)\n",
    "        image_tensor = resizer(image_tensor)\n",
    "        image_tensor = randomcrop(image_tensor)\n",
    "\n",
    "        images_tensor.append(image_tensor)\n",
    "\n",
    "    output = torch.stack(images_tensor)\n",
    "\n",
    "    return output"
   ]
  },
  {
   "cell_type": "code",
   "execution_count": 215,
   "metadata": {},
   "outputs": [],
   "source": [
    "from torch import nn\n",
    "from torch import optim\n",
    "from torchvision.models import mobilenet_v3_small"
   ]
  },
  {
   "cell_type": "code",
   "execution_count": 219,
   "metadata": {},
   "outputs": [],
   "source": [
    "class autoEncoder (nn.Module):\n",
    "\n",
    "    def __init__ (self):\n",
    "        super().__init__()\n",
    "\n",
    "        self.mobilenet = mobilenet_v3_small(pretrained=True)\n",
    "\n",
    "        self.encoder = nn.Sequential(*[\n",
    "            nn.Conv2d(in_channels=1, out_channels=3, kernel_size=(1,1), padding=\"same\"),\n",
    "            self.mobilenet.features,\n",
    "            nn.AdaptiveAvgPool2d(output_size=1),\n",
    "            nn.Flatten()\n",
    "        ])\n",
    "\n",
    "        self.decoder = nn.Sequential(*[\n",
    "            nn.Unflatten(1, (1, 24,24)),\n",
    "            nn.Conv2d(1, 16, kernel_size=(3,3), padding=\"same\"),\n",
    "            nn.BatchNorm2d(16),\n",
    "            nn.ReLU(),\n",
    "            nn.Upsample((48,48)),\n",
    "            nn.Conv2d(16, 32, kernel_size=(3,3), padding=\"same\"),\n",
    "            nn.BatchNorm2d(32),\n",
    "            nn.ReLU(),\n",
    "            nn.Upsample((96,96)),\n",
    "            nn.Conv2d(32, 64, kernel_size=(3,3), padding=\"same\"),\n",
    "            nn.BatchNorm2d(64),\n",
    "            nn.ReLU(),\n",
    "            nn.Upsample((256,256)),\n",
    "            nn.Conv2d(64, 128, kernel_size=(3,3), padding=\"same\"),\n",
    "            nn.BatchNorm2d(128),\n",
    "            nn.ReLU(),\n",
    "            nn.Upsample((512,512)),\n",
    "            nn.Conv2d(128, 1, kernel_size=(3,3), padding=\"same\"),\n",
    "        ])\n",
    "\n",
    "        self.loss = nn.MSELoss()\n",
    "        self.optim = optim.Adam(self.parameters())\n",
    "\n",
    "    def forward (self, x):\n",
    "        y_encode = self.encoder(x)\n",
    "\n",
    "        return y_encode\n",
    "\n",
    "    def fullpass (self, x):\n",
    "\n",
    "        y_encode = self(x)\n",
    "        y_decode = self.decoder(y_encode)\n",
    "\n",
    "        return y_decode\n",
    "\n",
    "    def fit (self, x):\n",
    "\n",
    "        self.train()\n",
    "        self.optim.zero_grad()\n",
    "        x_ = self.fullpass(x)\n",
    "        loss = self.loss(x_, x)\n",
    "\n",
    "        loss.backward()\n",
    "        self.optim.step()\n",
    "\n",
    "        return loss.detach().item()"
   ]
  },
  {
   "cell_type": "code",
   "execution_count": 220,
   "metadata": {},
   "outputs": [],
   "source": [
    "dataloader = DataLoader(X0_train, collate_fn=dataset_collater, batch_size=12)"
   ]
  },
  {
   "cell_type": "code",
   "execution_count": 221,
   "metadata": {},
   "outputs": [],
   "source": [
    "ae = autoEncoder()"
   ]
  },
  {
   "cell_type": "code",
   "execution_count": 222,
   "metadata": {},
   "outputs": [],
   "source": [
    "n_epoch = 100\n",
    "\n",
    "ae = ae.to(\"cuda:0\")\n",
    "\n",
    "for i in range(n_epoch):\n",
    "    for x in dataloader:\n",
    "        x = x.to(\"cuda:0\")\n",
    "        loss = ae.fit(x)\n",
    "\n",
    "        print(f\"Loss value : {loss}\")"
   ]
  }
 ],
 "metadata": {
  "interpreter": {
   "hash": "916dbcbb3f70747c44a77c7bcd40155683ae19c65e1c03b4aa3499c5328201f1"
  },
  "kernelspec": {
   "display_name": "Python 3.9.5 64-bit",
   "language": "python",
   "name": "python3"
  },
  "language_info": {
   "codemirror_mode": {
    "name": "ipython",
    "version": 3
   },
   "file_extension": ".py",
   "mimetype": "text/x-python",
   "name": "python",
   "nbconvert_exporter": "python",
   "pygments_lexer": "ipython3",
   "version": "3.9.9"
  },
  "orig_nbformat": 4
 },
 "nbformat": 4,
 "nbformat_minor": 2
}
